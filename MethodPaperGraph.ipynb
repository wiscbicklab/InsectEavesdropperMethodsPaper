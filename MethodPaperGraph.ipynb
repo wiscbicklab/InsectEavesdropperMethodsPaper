{
 "cells": [
  {
   "cell_type": "code",
   "execution_count": null,
   "metadata": {},
   "outputs": [],
   "source": [
    "import librosa\n",
    "import os\n",
    "import matplotlib.pyplot as plt"
   ]
  },
  {
   "cell_type": "code",
   "execution_count": null,
   "metadata": {},
   "outputs": [],
   "source": [
    "y, sr = librosa.load(\"/home/pc/Paper/Lab/Manduca/I5_leaf5_I1_leaf6_03_29_2023_22_43_240.wav\")\n",
    "y1, sr1 = librosa.load(\"/home/pc/Paper/Lab/Manduca/I5_leaf5_I1_leaf6_03_29_2023_22_43_241.wav\")\n",
    "y2, sr2 = librosa.load(\"/home/pc/Paper/Lab/CPB/CPB3_04_04_2023_22_05_471hour0.wav\")\n",
    "y3, sr3 = librosa.load(\"/home/pc/Paper/Lab/CPB/CPB3_04_04_2023_22_05_472hour0.wav\")\n",
    "y4, sr4 = librosa.load(\"/home/pc/Paper/Lab/ECB/ECB15_36_04_03_2023_22_38_521hour0.wav\")\n",
    "y5, sr5 = librosa.load(\"/home/pc/Paper/Lab/ECB/ECB15_36_04_03_2023_22_38_522hour0.wav\")\n",
    "y6, sr6 = librosa.load(\"/home/pc/Paper/Lab/Cornworm/RW37_32_04_08_2023_19_30_491hour0.wav\")\n",
    "y7, sr7 = librosa.load(\"/home/pc/Paper/Lab/Cornworm/RW37_32_04_08_2023_19_30_492hour0.wav\")"
   ]
  },
  {
   "cell_type": "code",
   "execution_count": null,
   "metadata": {},
   "outputs": [],
   "source": [
    "\n",
    "\n",
    "# Create a grid of 4 graphs (2x2) with 2 sound files each\n",
    "fig, axes = plt.subplots(2, 2, figsize=(8, 6))\n",
    "\n",
    "# Plot first pair of sound files\n",
    "axes[0, 0].set_title('Manduca')\n",
    "librosa.display.waveshow(y, sr=sr, ax=axes[0, 0], color='black' )\n",
    "librosa.display.waveshow(y1, sr=sr1, ax=axes[0, 0], color='gray',alpha=0.5)\n",
    "axes[0, 0].set_ylim(-0.003, 0.003)\n",
    "axes[0, 0].set_xticks([0,30*60,60*60])\n",
    "axes[0, 0].set_xlabel('')\n",
    "axes[0, 0].set_ylabel('Amplitude')\n",
    "\n",
    "# Plot second pair of sound files\n",
    "axes[0, 1].set_title('Colorado Potato Beetle')\n",
    "librosa.display.waveshow(y2, sr=sr2, ax=axes[0, 1], color='black')\n",
    "librosa.display.waveshow(y3, sr=sr3, ax=axes[0, 1], color='gray',alpha=0.5)\n",
    "axes[0, 1].set_ylim(-0.003, 0.003)\n",
    "axes[0, 1].set_xticks([0,30*60,60*60])\n",
    "axes[0, 1].set_xlabel('')\n",
    "axes[0, 1].set_ylabel('Amplitude')\n",
    "\n",
    "# Plot third pair of sound files\n",
    "axes[1, 0].set_title('European Corn Borer')\n",
    "librosa.display.waveshow(y4, sr=sr4, ax=axes[1, 0], color='black')\n",
    "librosa.display.waveshow(y5, sr=sr5, ax=axes[1, 0], color='gray',alpha=0.5)\n",
    "axes[1, 0].set_ylim(-0.003, 0.003)\n",
    "axes[1, 0].set_xticks([0,30*60,60*60])\n",
    "axes[1, 0].set_xlabel('Time (mins)')\n",
    "axes[1, 0].set_ylabel('Amplitude')\n",
    "\n",
    "# Plot fourth pair of sound files\n",
    "axes[1, 1].set_title('Corn Rootworm')\n",
    "librosa.display.waveshow(y6, sr=sr6, ax=axes[1, 1], color='black')\n",
    "librosa.display.waveshow(y7, sr=sr7, ax=axes[1, 1], color='gray',alpha=0.5)\n",
    "axes[1, 1].set_ylim(-0.003, 0.003)\n",
    "axes[1, 1].set_xticks([0,30*60,60*60])\n",
    "axes[1, 1].set_xlabel('Time (mins)')\n",
    "axes[1, 1].set_ylabel('Amplitude')\n",
    "\n",
    "plt.tight_layout()\n",
    "plt.show()\n"
   ]
  }
 ],
 "metadata": {
  "language_info": {
   "name": "python"
  }
 },
 "nbformat": 4,
 "nbformat_minor": 2
}
